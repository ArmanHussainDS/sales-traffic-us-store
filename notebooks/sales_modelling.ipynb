{
 "cells": [
  {
   "cell_type": "code",
   "execution_count": 39,
   "metadata": {},
   "outputs": [],
   "source": [
    "import pandas as pd\n",
    "import numpy as np\n",
    "\n",
    "from sklearn.preprocessing import StandardScaler, MinMaxScaler\n",
    "from sklearn.metrics import mean_squared_error,r2_score\n",
    "\n",
    "import matplotlib.pyplot as plt\n",
    "%matplotlib inline\n",
    "from keras.models import Sequential\n",
    "from keras.layers import Dense, LSTM, Dropout\n",
    "from keras.preprocessing.sequence import TimeseriesGenerator"
   ]
  },
  {
   "cell_type": "code",
   "execution_count": null,
   "metadata": {},
   "outputs": [],
   "source": []
  },
  {
   "cell_type": "code",
   "execution_count": 40,
   "metadata": {},
   "outputs": [],
   "source": [
    "df = pd.read_csv('../data/processed/sales_for_modelling.csv')"
   ]
  },
  {
   "cell_type": "code",
   "execution_count": 41,
   "metadata": {
    "scrolled": true
   },
   "outputs": [
    {
     "data": {
      "text/html": [
       "<div>\n",
       "<style scoped>\n",
       "    .dataframe tbody tr th:only-of-type {\n",
       "        vertical-align: middle;\n",
       "    }\n",
       "\n",
       "    .dataframe tbody tr th {\n",
       "        vertical-align: top;\n",
       "    }\n",
       "\n",
       "    .dataframe thead th {\n",
       "        text-align: right;\n",
       "    }\n",
       "</style>\n",
       "<table border=\"1\" class=\"dataframe\">\n",
       "  <thead>\n",
       "    <tr style=\"text-align: right;\">\n",
       "      <th></th>\n",
       "      <th>index</th>\n",
       "      <th>Value</th>\n",
       "      <th>Holiday</th>\n",
       "      <th>time</th>\n",
       "      <th>mdate</th>\n",
       "      <th>day</th>\n",
       "      <th>week</th>\n",
       "      <th>month</th>\n",
       "      <th>year</th>\n",
       "    </tr>\n",
       "  </thead>\n",
       "  <tbody>\n",
       "    <tr>\n",
       "      <td>0</td>\n",
       "      <td>2013-11-07 13:00</td>\n",
       "      <td>34.57</td>\n",
       "      <td>NaN</td>\n",
       "      <td>13</td>\n",
       "      <td>7</td>\n",
       "      <td>3</td>\n",
       "      <td>45</td>\n",
       "      <td>11</td>\n",
       "      <td>2013</td>\n",
       "    </tr>\n",
       "    <tr>\n",
       "      <td>1</td>\n",
       "      <td>2013-11-07 14:00</td>\n",
       "      <td>22.50</td>\n",
       "      <td>NaN</td>\n",
       "      <td>14</td>\n",
       "      <td>7</td>\n",
       "      <td>3</td>\n",
       "      <td>45</td>\n",
       "      <td>11</td>\n",
       "      <td>2013</td>\n",
       "    </tr>\n",
       "    <tr>\n",
       "      <td>2</td>\n",
       "      <td>2013-11-07 15:00</td>\n",
       "      <td>0.00</td>\n",
       "      <td>NaN</td>\n",
       "      <td>15</td>\n",
       "      <td>7</td>\n",
       "      <td>3</td>\n",
       "      <td>45</td>\n",
       "      <td>11</td>\n",
       "      <td>2013</td>\n",
       "    </tr>\n",
       "    <tr>\n",
       "      <td>3</td>\n",
       "      <td>2013-11-07 16:00</td>\n",
       "      <td>7.29</td>\n",
       "      <td>NaN</td>\n",
       "      <td>16</td>\n",
       "      <td>7</td>\n",
       "      <td>3</td>\n",
       "      <td>45</td>\n",
       "      <td>11</td>\n",
       "      <td>2013</td>\n",
       "    </tr>\n",
       "    <tr>\n",
       "      <td>4</td>\n",
       "      <td>2013-11-07 17:00</td>\n",
       "      <td>0.00</td>\n",
       "      <td>NaN</td>\n",
       "      <td>17</td>\n",
       "      <td>7</td>\n",
       "      <td>3</td>\n",
       "      <td>45</td>\n",
       "      <td>11</td>\n",
       "      <td>2013</td>\n",
       "    </tr>\n",
       "  </tbody>\n",
       "</table>\n",
       "</div>"
      ],
      "text/plain": [
       "              index  Value Holiday  time  mdate  day  week  month  year\n",
       "0  2013-11-07 13:00  34.57     NaN    13      7    3    45     11  2013\n",
       "1  2013-11-07 14:00  22.50     NaN    14      7    3    45     11  2013\n",
       "2  2013-11-07 15:00   0.00     NaN    15      7    3    45     11  2013\n",
       "3  2013-11-07 16:00   7.29     NaN    16      7    3    45     11  2013\n",
       "4  2013-11-07 17:00   0.00     NaN    17      7    3    45     11  2013"
      ]
     },
     "execution_count": 41,
     "metadata": {},
     "output_type": "execute_result"
    }
   ],
   "source": [
    "df.head()"
   ]
  },
  {
   "cell_type": "code",
   "execution_count": 42,
   "metadata": {},
   "outputs": [
    {
     "name": "stdout",
     "output_type": "stream",
     "text": [
      "<class 'pandas.core.frame.DataFrame'>\n",
      "RangeIndex: 39391 entries, 0 to 39390\n",
      "Data columns (total 9 columns):\n",
      "index      39391 non-null object\n",
      "Value      39391 non-null float64\n",
      "Holiday    1104 non-null object\n",
      "time       39391 non-null int64\n",
      "mdate      39391 non-null int64\n",
      "day        39391 non-null int64\n",
      "week       39391 non-null int64\n",
      "month      39391 non-null int64\n",
      "year       39391 non-null int64\n",
      "dtypes: float64(1), int64(6), object(2)\n",
      "memory usage: 2.7+ MB\n"
     ]
    }
   ],
   "source": [
    "df.info()"
   ]
  },
  {
   "cell_type": "code",
   "execution_count": 43,
   "metadata": {},
   "outputs": [],
   "source": [
    "df['index'] = pd.to_datetime(df['index'])"
   ]
  },
  {
   "cell_type": "code",
   "execution_count": 44,
   "metadata": {},
   "outputs": [],
   "source": [
    "df.set_index('index', inplace = True)"
   ]
  },
  {
   "cell_type": "code",
   "execution_count": 45,
   "metadata": {},
   "outputs": [
    {
     "data": {
      "text/plain": [
       "Value          0\n",
       "Holiday    38287\n",
       "time           0\n",
       "mdate          0\n",
       "day            0\n",
       "week           0\n",
       "month          0\n",
       "year           0\n",
       "dtype: int64"
      ]
     },
     "execution_count": 45,
     "metadata": {},
     "output_type": "execute_result"
    }
   ],
   "source": [
    "df.isna().sum()"
   ]
  },
  {
   "cell_type": "code",
   "execution_count": 46,
   "metadata": {},
   "outputs": [
    {
     "data": {
      "text/plain": [
       "Timestamp('2013-11-07 13:00:00')"
      ]
     },
     "execution_count": 46,
     "metadata": {},
     "output_type": "execute_result"
    }
   ],
   "source": [
    "df.index.min()"
   ]
  },
  {
   "cell_type": "code",
   "execution_count": 47,
   "metadata": {},
   "outputs": [
    {
     "data": {
      "text/plain": [
       "Timestamp('2018-05-06 19:00:00')"
      ]
     },
     "execution_count": 47,
     "metadata": {},
     "output_type": "execute_result"
    }
   ],
   "source": [
    "df.index.max()"
   ]
  },
  {
   "cell_type": "markdown",
   "metadata": {},
   "source": [
    "In order to predict an extra month of sales with hour granularity, we'll be using only the last 6 months from the dataset for computational reasons. "
   ]
  },
  {
   "cell_type": "code",
   "execution_count": null,
   "metadata": {},
   "outputs": [],
   "source": []
  },
  {
   "cell_type": "code",
   "execution_count": 48,
   "metadata": {},
   "outputs": [],
   "source": [
    "df.drop(['Holiday', 'time', 'mdate', 'day', 'week', 'month', 'year'], axis =1, inplace = True)\n",
    "\n",
    "\n"
   ]
  },
  {
   "cell_type": "code",
   "execution_count": 49,
   "metadata": {},
   "outputs": [],
   "source": [
    "scaler = MinMaxScaler(feature_range=(0, 1))\n",
    "scaled = scaler.fit_transform(df)"
   ]
  },
  {
   "cell_type": "code",
   "execution_count": 50,
   "metadata": {},
   "outputs": [],
   "source": [
    "def series_to_supervised(data, n_in=1, n_out=1, dropnan=True):\n",
    "    n_vars = 1 if type(data) is list else data.shape[1]\n",
    "    dff = pd.DataFrame(data)\n",
    "    cols, names = list(), list()\n",
    "    # input sequence (t-n, ... t-1)\n",
    "    for i in range(n_in, 0, -1):\n",
    "        cols.append(dff.shift(i))\n",
    "        names += [('var%d(t-%d)' % (j+1, i)) for j in range(n_vars)]\n",
    "    # forecast sequence (t, t+1, ... t+n)\n",
    "    for i in range(0, n_out):\n",
    "        cols.append(dff.shift(-i))\n",
    "        if i == 0:\n",
    "            names += [('var%d(t)' % (j+1)) for j in range(n_vars)]\n",
    "        else:\n",
    "            names += [('var%d(t+%d)' % (j+1, i)) for j in range(n_vars)]\n",
    "    # put it all together\n",
    "    agg = pd.concat(cols, axis=1)\n",
    "    agg.columns = names\n",
    "    # drop rows with NaN values\n",
    "    if dropnan:\n",
    "        agg.dropna(inplace=True)\n",
    "    return agg"
   ]
  },
  {
   "cell_type": "code",
   "execution_count": 51,
   "metadata": {},
   "outputs": [],
   "source": [
    "reframed = series_to_supervised(scaled, 24, 1)"
   ]
  },
  {
   "cell_type": "code",
   "execution_count": 52,
   "metadata": {},
   "outputs": [],
   "source": [
    "values =reframed.values"
   ]
  },
  {
   "cell_type": "code",
   "execution_count": 53,
   "metadata": {
    "scrolled": true
   },
   "outputs": [
    {
     "data": {
      "text/plain": [
       "array([[0.47689336, 0.31038764, 0.        , ..., 0.75596634, 0.58339081,\n",
       "        0.59497862],\n",
       "       [0.31038764, 0.        , 0.1005656 , ..., 0.58339081, 0.59497862,\n",
       "        0.58173541],\n",
       "       [0.        , 0.1005656 , 0.        , ..., 0.59497862, 0.58173541,\n",
       "        0.5555249 ],\n",
       "       ...,\n",
       "       [0.44433715, 0.49248172, 0.48530832, ..., 0.50282798, 0.46516761,\n",
       "        0.42447234],\n",
       "       [0.49248172, 0.48530832, 0.42571389, ..., 0.46516761, 0.42447234,\n",
       "        0.4400607 ],\n",
       "       [0.48530832, 0.42571389, 0.        , ..., 0.42447234, 0.4400607 ,\n",
       "        0.1047041 ]])"
      ]
     },
     "execution_count": 53,
     "metadata": {},
     "output_type": "execute_result"
    }
   ],
   "source": [
    "values"
   ]
  },
  {
   "cell_type": "code",
   "execution_count": 54,
   "metadata": {},
   "outputs": [],
   "source": [
    "n_train_time = 30000\n",
    "train = values[:n_train_time, :]\n",
    "test = values[n_train_time:, :]"
   ]
  },
  {
   "cell_type": "code",
   "execution_count": 55,
   "metadata": {},
   "outputs": [
    {
     "data": {
      "text/plain": [
       "(9367, 25)"
      ]
     },
     "execution_count": 55,
     "metadata": {},
     "output_type": "execute_result"
    }
   ],
   "source": [
    "test.shape"
   ]
  },
  {
   "cell_type": "code",
   "execution_count": 56,
   "metadata": {},
   "outputs": [
    {
     "data": {
      "text/plain": [
       "(30000, 25)"
      ]
     },
     "execution_count": 56,
     "metadata": {},
     "output_type": "execute_result"
    }
   ],
   "source": [
    "train.shape"
   ]
  },
  {
   "cell_type": "code",
   "execution_count": 57,
   "metadata": {},
   "outputs": [],
   "source": [
    "train_X, train_y = train[:, :-1], train[:, -1]\n",
    "test_X, test_y = test[:, :-1], test[:, -1]"
   ]
  },
  {
   "cell_type": "code",
   "execution_count": 58,
   "metadata": {},
   "outputs": [
    {
     "name": "stdout",
     "output_type": "stream",
     "text": [
      "(30000, 1, 24) (30000,) (9367, 1, 24) (9367,)\n"
     ]
    }
   ],
   "source": [
    "train_X = train_X.reshape((train_X.shape[0], 1, train_X.shape[1]))\n",
    "test_X = test_X.reshape((test_X.shape[0], 1, test_X.shape[1]))\n",
    "print(train_X.shape, train_y.shape, test_X.shape, test_y.shape) "
   ]
  },
  {
   "cell_type": "code",
   "execution_count": 59,
   "metadata": {},
   "outputs": [],
   "source": [
    "model = Sequential()\n",
    "model.add(LSTM(100, input_shape=(train_X.shape[1], train_X.shape[2])))\n",
    "model.add(Dropout(0.2))\n",
    "\n",
    "model.add(Dense(1))\n",
    "model.compile(loss='mean_squared_error', optimizer='adam')\n"
   ]
  },
  {
   "cell_type": "code",
   "execution_count": 60,
   "metadata": {
    "scrolled": true
   },
   "outputs": [
    {
     "name": "stdout",
     "output_type": "stream",
     "text": [
      "Model: \"sequential_2\"\n",
      "_________________________________________________________________\n",
      "Layer (type)                 Output Shape              Param #   \n",
      "=================================================================\n",
      "lstm_2 (LSTM)                (None, 100)               50000     \n",
      "_________________________________________________________________\n",
      "dropout_2 (Dropout)          (None, 100)               0         \n",
      "_________________________________________________________________\n",
      "dense_2 (Dense)              (None, 1)                 101       \n",
      "=================================================================\n",
      "Total params: 50,101\n",
      "Trainable params: 50,101\n",
      "Non-trainable params: 0\n",
      "_________________________________________________________________\n"
     ]
    }
   ],
   "source": [
    "model.summary()"
   ]
  },
  {
   "cell_type": "code",
   "execution_count": 61,
   "metadata": {},
   "outputs": [
    {
     "name": "stdout",
     "output_type": "stream",
     "text": [
      "Train on 30000 samples, validate on 9367 samples\n",
      "Epoch 1/50\n",
      " - 2s - loss: 0.0095 - val_loss: 0.0058\n",
      "Epoch 2/50\n",
      " - 2s - loss: 0.0061 - val_loss: 0.0055\n",
      "Epoch 3/50\n",
      " - 2s - loss: 0.0057 - val_loss: 0.0053\n",
      "Epoch 4/50\n",
      " - 2s - loss: 0.0056 - val_loss: 0.0051\n",
      "Epoch 5/50\n",
      " - 2s - loss: 0.0054 - val_loss: 0.0051\n",
      "Epoch 6/50\n",
      " - 1s - loss: 0.0053 - val_loss: 0.0051\n",
      "Epoch 7/50\n",
      " - 2s - loss: 0.0053 - val_loss: 0.0050\n",
      "Epoch 8/50\n",
      " - 1s - loss: 0.0052 - val_loss: 0.0050\n",
      "Epoch 9/50\n",
      " - 2s - loss: 0.0051 - val_loss: 0.0049\n",
      "Epoch 10/50\n",
      " - 2s - loss: 0.0050 - val_loss: 0.0049\n",
      "Epoch 11/50\n",
      " - 2s - loss: 0.0050 - val_loss: 0.0049\n",
      "Epoch 12/50\n",
      " - 2s - loss: 0.0049 - val_loss: 0.0047\n",
      "Epoch 13/50\n",
      " - 2s - loss: 0.0048 - val_loss: 0.0047\n",
      "Epoch 14/50\n",
      " - 2s - loss: 0.0048 - val_loss: 0.0046\n",
      "Epoch 15/50\n",
      " - 2s - loss: 0.0048 - val_loss: 0.0046\n",
      "Epoch 16/50\n",
      " - 2s - loss: 0.0047 - val_loss: 0.0045\n",
      "Epoch 17/50\n",
      " - 2s - loss: 0.0047 - val_loss: 0.0045\n",
      "Epoch 18/50\n",
      " - 2s - loss: 0.0047 - val_loss: 0.0044\n",
      "Epoch 19/50\n",
      " - 2s - loss: 0.0046 - val_loss: 0.0044\n",
      "Epoch 20/50\n",
      " - 2s - loss: 0.0046 - val_loss: 0.0043\n",
      "Epoch 21/50\n",
      " - 1s - loss: 0.0045 - val_loss: 0.0043\n",
      "Epoch 22/50\n",
      " - 2s - loss: 0.0045 - val_loss: 0.0043\n",
      "Epoch 23/50\n",
      " - 2s - loss: 0.0045 - val_loss: 0.0042\n",
      "Epoch 24/50\n",
      " - 2s - loss: 0.0044 - val_loss: 0.0042\n",
      "Epoch 25/50\n",
      " - 2s - loss: 0.0044 - val_loss: 0.0042\n",
      "Epoch 26/50\n",
      " - 2s - loss: 0.0044 - val_loss: 0.0042\n",
      "Epoch 27/50\n",
      " - 1s - loss: 0.0044 - val_loss: 0.0041\n",
      "Epoch 28/50\n",
      " - 1s - loss: 0.0043 - val_loss: 0.0041\n",
      "Epoch 29/50\n",
      " - 1s - loss: 0.0043 - val_loss: 0.0041\n",
      "Epoch 30/50\n",
      " - 2s - loss: 0.0043 - val_loss: 0.0041\n",
      "Epoch 31/50\n",
      " - 2s - loss: 0.0043 - val_loss: 0.0041\n",
      "Epoch 32/50\n",
      " - 2s - loss: 0.0043 - val_loss: 0.0040\n",
      "Epoch 33/50\n",
      " - 2s - loss: 0.0042 - val_loss: 0.0040\n",
      "Epoch 34/50\n",
      " - 2s - loss: 0.0042 - val_loss: 0.0040\n",
      "Epoch 35/50\n",
      " - 2s - loss: 0.0042 - val_loss: 0.0040\n",
      "Epoch 36/50\n",
      " - 2s - loss: 0.0042 - val_loss: 0.0040\n",
      "Epoch 37/50\n",
      " - 2s - loss: 0.0042 - val_loss: 0.0040\n",
      "Epoch 38/50\n",
      " - 1s - loss: 0.0042 - val_loss: 0.0040\n",
      "Epoch 39/50\n",
      " - 2s - loss: 0.0041 - val_loss: 0.0040\n",
      "Epoch 40/50\n",
      " - 2s - loss: 0.0041 - val_loss: 0.0039\n",
      "Epoch 41/50\n",
      " - 2s - loss: 0.0041 - val_loss: 0.0039\n",
      "Epoch 42/50\n",
      " - 2s - loss: 0.0041 - val_loss: 0.0039\n",
      "Epoch 43/50\n",
      " - 2s - loss: 0.0041 - val_loss: 0.0039\n",
      "Epoch 44/50\n",
      " - 2s - loss: 0.0041 - val_loss: 0.0039\n",
      "Epoch 45/50\n",
      " - 1s - loss: 0.0041 - val_loss: 0.0039\n",
      "Epoch 46/50\n",
      " - 2s - loss: 0.0041 - val_loss: 0.0039\n",
      "Epoch 47/50\n",
      " - 2s - loss: 0.0040 - val_loss: 0.0039\n",
      "Epoch 48/50\n",
      " - 2s - loss: 0.0040 - val_loss: 0.0039\n",
      "Epoch 49/50\n",
      " - 2s - loss: 0.0040 - val_loss: 0.0038\n",
      "Epoch 50/50\n",
      " - 2s - loss: 0.0040 - val_loss: 0.0038\n"
     ]
    }
   ],
   "source": [
    "history = model.fit(train_X, train_y, \n",
    "                    epochs=50, batch_size=70, \n",
    "                    validation_data=(test_X, test_y), \n",
    "                    verbose=2, shuffle=False)"
   ]
  },
  {
   "cell_type": "code",
   "execution_count": 62,
   "metadata": {
    "scrolled": true
   },
   "outputs": [
    {
     "data": {
      "image/png": "[encoded data removed]",
      "text/plain": [
       "<Figure size 432x288 with 1 Axes>"
      ]
     },
     "metadata": {
      "needs_background": "light"
     },
     "output_type": "display_data"
    }
   ],
   "source": [
    "# summarize history for loss\n",
    "plt.plot(history.history['loss'])\n",
    "plt.plot(history.history['val_loss'])\n",
    "plt.title('model loss')\n",
    "plt.ylabel('loss')\n",
    "plt.xlabel('epoch')\n",
    "plt.legend(['train', 'test'], loc='upper right')\n",
    "plt.show()"
   ]
  },
  {
   "cell_type": "code",
   "execution_count": 63,
   "metadata": {},
   "outputs": [
    {
     "name": "stdout",
     "output_type": "stream",
     "text": [
      "Test RMSE: 4.486\n"
     ]
    }
   ],
   "source": [
    "# make a prediction\n",
    "yhat = model.predict(test_X)\n",
    "# make a prediction\n",
    "yhat = model.predict(test_X)\n",
    "test_X = test_X.reshape((test_X.shape[0], 24))\n",
    "# invert scaling for forecast\n",
    "inv_yhat = np.concatenate((yhat, test_X[:, -6:]), axis=1)\n",
    "inv_yhat = scaler.inverse_transform(inv_yhat)\n",
    "inv_yhat = inv_yhat[:,0]\n",
    "# invert scaling for actual\n",
    "test_y = test_y.reshape((len(test_y), 1))\n",
    "inv_y = np.concatenate((test_y, test_X[:, -6:]), axis=1)\n",
    "inv_y = scaler.inverse_transform(inv_y)\n",
    "inv_y = inv_y[:,0]\n",
    "# calculate RMSE\n",
    "rmse = np.sqrt(mean_squared_error(inv_y, inv_yhat))\n",
    "print('Test RMSE: %.3f' % rmse)"
   ]
  },
  {
   "cell_type": "code",
   "execution_count": 64,
   "metadata": {},
   "outputs": [
    {
     "data": {
      "image/png": "[encoded data removed]",
      "text/plain": [
       "<Figure size 432x288 with 1 Axes>"
      ]
     },
     "metadata": {
      "needs_background": "light"
     },
     "output_type": "display_data"
    }
   ],
   "source": [
    "fig = plt.subplots()\n",
    "aa=[x for x in range(300)]\n",
    "plt.plot(aa, inv_y[:300], marker='.', label=\"actual\")\n",
    "plt.plot(aa, inv_yhat[:300], 'r', label=\"prediction\")\n",
    "plt.ylabel('Sales', size=15)\n",
    "plt.xlabel('Time step', size=15)\n",
    "plt.legend(fontsize=10)\n",
    "plt.show()"
   ]
  },
  {
   "cell_type": "markdown",
   "metadata": {},
   "source": [
    "#  Splitting Test-Train"
   ]
  },
  {
   "cell_type": "code",
   "execution_count": 27,
   "metadata": {},
   "outputs": [],
   "source": [
    "# # Set train/test time split\n",
    "# train_start  = pd.to_datetime('2017120100', format='%Y%m%d%H', errors='ignore') \n",
    "# train_end    = pd.to_datetime('2018033023', format='%Y%m%d%H', errors='ignore')\n",
    "# test_start   = train_end  + pd.Timedelta(hours=1)\n",
    "# test_end     = pd.to_datetime('2018050619', format='%Y%m%d%H', errors='ignore')"
   ]
  },
  {
   "cell_type": "code",
   "execution_count": 28,
   "metadata": {},
   "outputs": [],
   "source": [
    "# # Assign train/test data frames\n",
    "\n",
    "# df_train = df.loc[train_start:train_end]\n",
    "# df_test  = df.loc[test_start:]\n",
    "# print('Test/train ratio: {r}'.format(r=round(len(df_test)/(len(df_train)+len(df_test)),2)))"
   ]
  },
  {
   "cell_type": "code",
   "execution_count": 29,
   "metadata": {},
   "outputs": [],
   "source": [
    "# df_train.drop(['Holiday', 'time', 'mdate', 'day', 'week', 'month', 'year'],axis =1, inplace = True)"
   ]
  },
  {
   "cell_type": "code",
   "execution_count": 30,
   "metadata": {},
   "outputs": [],
   "source": [
    "# df_test.drop(['Holiday', 'time', 'mdate', 'day', 'week', 'month', 'year'],axis =1, inplace = True)"
   ]
  },
  {
   "cell_type": "code",
   "execution_count": 31,
   "metadata": {},
   "outputs": [],
   "source": [
    "# # Function to split time series data into:\n",
    "# #   n consecutive time steps of data as X\n",
    "# #   and 1 time step of data as y\n",
    "\n",
    "# import numpy as np\n",
    "# def split_data(data, n_steps):\n",
    "#     X, y = list(), list()\n",
    "#     for i in range(len(data)):\n",
    "#         # index of last element for each grouping of steps\n",
    "#         end_ix = i + n_steps\n",
    "#     # break condition at the end of the sequence\n",
    "#         if end_ix > len(data)-1:\n",
    "#             break\n",
    "#         # X = first n elements, y = the element after\n",
    "#         seq_x, seq_y = data[i:end_ix], data[end_ix]\n",
    "#         X.append(seq_x)\n",
    "#         y.append(seq_y)\n",
    "#     return np.array(X), np.array(y)"
   ]
  },
  {
   "cell_type": "code",
   "execution_count": 32,
   "metadata": {},
   "outputs": [
    {
     "ename": "NameError",
     "evalue": "name 'df_train' is not defined",
     "output_type": "error",
     "traceback": [
      "\u001b[0;31m---------------------------------------------------------------------------\u001b[0m",
      "\u001b[0;31mNameError\u001b[0m                                 Traceback (most recent call last)",
      "\u001b[0;32m<ipython-input-32-241772457c92>\u001b[0m in \u001b[0;36m<module>\u001b[0;34m\u001b[0m\n\u001b[0;32m----> 1\u001b[0;31m \u001b[0mlen\u001b[0m\u001b[0;34m(\u001b[0m\u001b[0mdf_train\u001b[0m\u001b[0;34m)\u001b[0m\u001b[0;34m\u001b[0m\u001b[0;34m\u001b[0m\u001b[0m\n\u001b[0m",
      "\u001b[0;31mNameError\u001b[0m: name 'df_train' is not defined"
     ]
    }
   ],
   "source": [
    "len(df_train)"
   ]
  },
  {
   "cell_type": "code",
   "execution_count": null,
   "metadata": {},
   "outputs": [],
   "source": [
    "# # Assign number of time steps & epochs\n",
    "# # n_steps = n sequence of X in time series followed by one Y\n",
    "# n_steps    = 24*7*4 # 4 weeks worth of hourly input to predict 1 future hour\n",
    "# batch_size = 24*7\n",
    "# epochs     = 10\n",
    "# n_features = 1\n"
   ]
  },
  {
   "cell_type": "code",
   "execution_count": null,
   "metadata": {},
   "outputs": [],
   "source": [
    "# # Reshape X from [samples, steps] into [samples, steps, features]\n",
    "# # as the required Keras input format\n",
    "\n",
    "# X_train, y_train = split_data(df_train, n_steps)\n",
    "# X_train = X_train.reshape((X_train.shape[0], X_train.shape[1], n_features))\n",
    "# X_test, y_test = split_data(df_test, n_steps)\n",
    "# X_test = X_test.reshape((X_test.shape[0], X_test.shape[1], n_features))"
   ]
  },
  {
   "cell_type": "code",
   "execution_count": null,
   "metadata": {},
   "outputs": [],
   "source": [
    "def series_to_supervised(data, n_in=1, n_out=1, dropnan=True):\n",
    "    n_vars = 1 if type(data) is list else data.shape[1]\n",
    "    dff = pd.DataFrame(data)\n",
    "    cols, names = list(), list()\n",
    "    # input sequence (t-n, ... t-1)\n",
    "    for i in range(n_in, 0, -1):\n",
    "        cols.append(dff.shift(i))\n",
    "        names += [('var%d(t-%d)' % (j+1, i)) for j in range(n_vars)]\n",
    "    # forecast sequence (t, t+1, ... t+n)\n",
    "    for i in range(0, n_out):\n",
    "        cols.append(dff.shift(-i))\n",
    "        if i == 0:\n",
    "            names += [('var%d(t)' % (j+1)) for j in range(n_vars)]\n",
    "        else:\n",
    "            names += [('var%d(t+%d)' % (j+1, i)) for j in range(n_vars)]\n",
    "    # put it all together\n",
    "    agg = pd.concat(cols, axis=1)\n",
    "    agg.columns = names\n",
    "    # drop rows with NaN values\n",
    "    if dropnan:\n",
    "        agg.dropna(inplace=True)\n",
    "    return agg"
   ]
  },
  {
   "cell_type": "code",
   "execution_count": null,
   "metadata": {},
   "outputs": [],
   "source": [
    "reframed = series_to_supervised(df_train, 24, 1)"
   ]
  },
  {
   "cell_type": "code",
   "execution_count": null,
   "metadata": {},
   "outputs": [],
   "source": [
    "reframed"
   ]
  },
  {
   "cell_type": "code",
   "execution_count": null,
   "metadata": {},
   "outputs": [],
   "source": []
  }
 ],
 "metadata": {
  "kernelspec": {
   "display_name": "Python 3",
   "language": "python",
   "name": "python3"
  },
  "language_info": {
   "codemirror_mode": {
    "name": "ipython",
    "version": 3
   },
   "file_extension": ".py",
   "mimetype": "text/x-python",
   "name": "python",
   "nbconvert_exporter": "python",
   "pygments_lexer": "ipython3",
   "version": "3.7.4"
  }
 },
 "nbformat": 4,
 "nbformat_minor": 2
}
